{
 "cells": [
  {
   "cell_type": "markdown",
   "id": "596c4e44",
   "metadata": {},
   "source": [
    "# 1.What are the two values of the Boolean data type? How do you write them?"
   ]
  },
  {
   "cell_type": "markdown",
   "id": "e4ae9015",
   "metadata": {},
   "source": [
    "boolean type data is data which only can be true or false .\n",
    "\n",
    "a= True ,\n",
    "b= False \n",
    "\n",
    "a = 1<=2 (true)\n",
    "b = 1>= 2 (false)"
   ]
  },
  {
   "cell_type": "markdown",
   "id": "4d6788f0",
   "metadata": {},
   "source": [
    "# 2. What are the three different types of Boolean operators?"
   ]
  },
  {
   "cell_type": "markdown",
   "id": "a15b3592",
   "metadata": {},
   "source": [
    " There are two type of boolean operatpors 1. True , 2. False \n",
    " logical operators like \"and\" , \"or\" are also can be boolean data "
   ]
  },
  {
   "cell_type": "markdown",
   "id": "67d0985a",
   "metadata": {},
   "source": [
    "3. Make a list of each Boolean operator&#39;s truth tables (i.e. every possible combination of Boolean\n",
    "values for the operator and what it evaluate )."
   ]
  },
  {
   "cell_type": "code",
   "execution_count": null,
   "id": "8e96718a",
   "metadata": {},
   "outputs": [],
   "source": [
    "FOR AND :-\n",
    "\n",
    "A         B    A and B\n",
    "True    True    True\n",
    "False   True    False\n",
    "True    False   False\n",
    "False   False   False\n",
    "  \n",
    "FOR OR :-\n",
    "A       B       A or B\n",
    "True    True     True\n",
    "False   True     True\n",
    "True    False    True\n",
    "False   False    False"
   ]
  },
  {
   "cell_type": "markdown",
   "id": "99bd8c51",
   "metadata": {},
   "source": [
    "4. What are the values of the following expressions?"
   ]
  },
  {
   "cell_type": "code",
   "execution_count": null,
   "id": "b2eb7735",
   "metadata": {},
   "outputs": [],
   "source": [
    "1.(5 >4) and (3 == 5)\n",
    "   False\n",
    "\n",
    "2. not (5 > 4)\n",
    "   False\n",
    "\n",
    "3. (5 > 4) or (3 == 5)\n",
    "   True\n",
    "\n",
    "4.not ((5 > 4) or (3 == 5))\n",
    "    False\n",
    "\n",
    "5.(True and True) and (True == False)\n",
    "   False\n",
    "\n",
    "6.(not False) or (not True)\n",
    "   True"
   ]
  },
  {
   "cell_type": "markdown",
   "id": "a5404683",
   "metadata": {},
   "source": [
    "5. What are the six comparison operators?"
   ]
  },
  {
   "cell_type": "code",
   "execution_count": null,
   "id": "e64f8251",
   "metadata": {},
   "outputs": [],
   "source": [
    " < , > , <= , >= , == , !=\n",
    "    "
   ]
  },
  {
   "cell_type": "markdown",
   "id": "bc40e27b",
   "metadata": {},
   "source": [
    "6. How do you tell the difference between the equal to and assignment operators?Describe a\n",
    "condition and when you would use one."
   ]
  },
  {
   "cell_type": "code",
   "execution_count": null,
   "id": "28fdbee7",
   "metadata": {},
   "outputs": [],
   "source": [
    "##if there a conditions are attach to equal to sigh it means it is assignment operators like\n",
    "\n",
    "Operator Example   Same As\n",
    "+=       x += 3    x = x + 3\n",
    "-=       x -= 3    x = x - 3\n",
    "*=       x *= 3    x = x * 3\n",
    "/=       x /= 3    x = x / 3"
   ]
  },
  {
   "cell_type": "markdown",
   "id": "30e98027",
   "metadata": {},
   "source": [
    "7. Identify the three blocks in this code:"
   ]
  },
  {
   "cell_type": "code",
   "execution_count": 21,
   "id": "5e10dc1a",
   "metadata": {},
   "outputs": [],
   "source": [
    "spam = 0\n",
    "if spam == 10:\n",
    "     print(\"eggs\")        #this is first block\n",
    "if spam > 5:\n",
    "    print(\"bacon\")        # this is second block\n",
    "else:\n",
    "    print(\"ham\")          \n",
    "    print(\"spam\")         # this is third block of program\n",
    "    print(\"spam\")"
   ]
  },
  {
   "cell_type": "code",
   "execution_count": null,
   "id": "539c3793",
   "metadata": {},
   "outputs": [],
   "source": [
    "8. Write code that prints Hello if 1 is stored in spam, prints Howdy if 2 is stored in spam, and prints\n",
    "Greetings! if anything else is stored in spam."
   ]
  },
  {
   "cell_type": "markdown",
   "id": "ff91ff53",
   "metadata": {},
   "source": [
    "spam = 3 \n",
    "\n",
    "if spam == 1:\n",
    "    print(\"Hello\")\n",
    "if spam == 2:\n",
    "    print(\"Howdy\")\n",
    "else:\n",
    "    print(\"Greetings!\")"
   ]
  },
  {
   "cell_type": "markdown",
   "id": "211b9e8b",
   "metadata": {},
   "source": [
    "9.If your programme is stuck in an endless loop, what keys you’ll press?"
   ]
  },
  {
   "cell_type": "markdown",
   "id": "e2cce46e",
   "metadata": {},
   "source": [
    "you press ctrl-c key or you can just restart kernal ."
   ]
  },
  {
   "cell_type": "markdown",
   "id": "7979d1b9",
   "metadata": {},
   "source": [
    "10. How can you tell the difference between break and continue?"
   ]
  },
  {
   "cell_type": "markdown",
   "id": "f91a3d64",
   "metadata": {},
   "source": [
    "break we use when we got the value by program and wanted to stop the program . \n",
    "continue we use when when we get the value but it didn't statisfy our condition then by using continue we can use program again and again "
   ]
  },
  {
   "cell_type": "markdown",
   "id": "24c3d8e9",
   "metadata": {},
   "source": [
    "11. In a for loop, what is the difference between range(10), range(0, 10), and range(0, 10, 1)?"
   ]
  },
  {
   "cell_type": "markdown",
   "id": "c8beec59",
   "metadata": {},
   "source": [
    "in genral range(10) , range(0,10)  and range(0,10,1) those give same value but in range(10) we give just upper bound ,\n",
    "in range(0 ,10 ) we give lower bound as well as upper bound , \n",
    "in range(0,10,1) we give lower bound , upper bound and we give jump between numbers "
   ]
  },
  {
   "cell_type": "code",
   "execution_count": null,
   "id": "400ff9c8",
   "metadata": {},
   "outputs": [],
   "source": [
    "12. Write a short program that prints the numbers 1 to 10 using a for loop. Then write an equivalent\n",
    "program that prints the numbers 1 to 10 using a while loop."
   ]
  },
  {
   "cell_type": "code",
   "execution_count": 54,
   "id": "c97830aa",
   "metadata": {},
   "outputs": [
    {
     "name": "stdout",
     "output_type": "stream",
     "text": [
      "1\n",
      "2\n",
      "3\n",
      "4\n",
      "5\n",
      "6\n",
      "7\n",
      "8\n",
      "9\n",
      "10\n"
     ]
    }
   ],
   "source": [
    "for i in range(1 , 11):\n",
    "    print(i)"
   ]
  },
  {
   "cell_type": "code",
   "execution_count": 51,
   "id": "fba79041",
   "metadata": {},
   "outputs": [
    {
     "name": "stdout",
     "output_type": "stream",
     "text": [
      "1\n",
      "2\n",
      "3\n",
      "4\n",
      "5\n",
      "6\n",
      "7\n",
      "8\n",
      "9\n",
      "10\n"
     ]
    }
   ],
   "source": [
    "while True:\n",
    "    for i in range(1,11):\n",
    "        print(i)\n",
    "    break"
   ]
  },
  {
   "cell_type": "markdown",
   "id": "9ee9b48a",
   "metadata": {},
   "source": [
    "13. If you had a function named bacon() inside a module named spam, how would you call it after\n",
    "importing spam?"
   ]
  },
  {
   "cell_type": "markdown",
   "id": "98c4c9b7",
   "metadata": {},
   "source": [
    "import spam as sp\n",
    "sp.bacon()"
   ]
  },
  {
   "cell_type": "code",
   "execution_count": null,
   "id": "efebef13",
   "metadata": {},
   "outputs": [],
   "source": []
  }
 ],
 "metadata": {
  "kernelspec": {
   "display_name": "Python 3 (ipykernel)",
   "language": "python",
   "name": "python3"
  },
  "language_info": {
   "codemirror_mode": {
    "name": "ipython",
    "version": 3
   },
   "file_extension": ".py",
   "mimetype": "text/x-python",
   "name": "python",
   "nbconvert_exporter": "python",
   "pygments_lexer": "ipython3",
   "version": "3.9.12"
  }
 },
 "nbformat": 4,
 "nbformat_minor": 5
}
